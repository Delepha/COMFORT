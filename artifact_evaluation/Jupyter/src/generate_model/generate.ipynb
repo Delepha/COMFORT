{
 "cells": [
  {
   "cell_type": "code",
   "execution_count": null,
   "id": "generic-vault",
   "metadata": {},
   "outputs": [],
   "source": [
    "import os\n",
    "os.environ['TF_CPP_MIN_LOG_LEVEL']='2'\n",
    "import gpt_2_simple as gpt2\n",
    "import execjs\n",
    "\n",
    "\n",
    "# Hyperparameters used in GPT-2 model\n",
    "model_dir = 'src/generate_model/models'\n",
    "model_name = '2020041912'\n",
    "numbers = 1\n",
    "batch_size = 1\n",
    "\n",
    "\n",
    "def syntax_check(code):\n",
    "    checker = execjs.compile(\"\"\"\n",
    "        function check(code) {\n",
    "            try {\n",
    "                eval(code);\n",
    "                return true;\n",
    "            } catch (e) {\n",
    "                return !(e instanceof SyntaxError);\n",
    "            }\n",
    "        }\n",
    "     \"\"\")\n",
    "    return checker.call(\"check\", code)\n",
    "\n",
    "\n",
    "def generate(temperature, top_p, top_k, prefix):\n",
    "    sess = gpt2.start_tf_sess()\n",
    "    sess = gpt2.reset_session(sess)\n",
    "    gpt2.load_gpt2(sess, \n",
    "                   model_dir=model_dir,\n",
    "                   model_name=model_name,\n",
    "                   multi_gpu=True)\n",
    "\n",
    "    text = gpt2.generate(sess,\n",
    "                         model_dir=model_dir,\n",
    "                         model_name=model_name,\n",
    "                         nsamples=numbers, \n",
    "                         batch_size=batch_size, \n",
    "                         return_as_list=True, \n",
    "                         top_p=top_p, \n",
    "                         top_k=top_k,\n",
    "                         temperature=temperature,\n",
    "                         prefix=prefix,\n",
    "                         include_prefix=True)[0]\n",
    "    \n",
    "    functions = text.split('//JavascriptTop2000Functions\\n')[1:]\n",
    "    \n",
    "    for function in functions:\n",
    "        if syntax_check('var NISLTEST = ' + function):\n",
    "            return function\n",
    "    \n",
    "    return functions[1]"
   ]
  },
  {
   "cell_type": "code",
   "execution_count": null,
   "id": "opened-swift",
   "metadata": {},
   "outputs": [],
   "source": []
  }
 ],
 "metadata": {
  "kernelspec": {
   "display_name": "Python 3",
   "language": "python",
   "name": "python3"
  },
  "language_info": {
   "codemirror_mode": {
    "name": "ipython",
    "version": 3
   },
   "file_extension": ".py",
   "mimetype": "text/x-python",
   "name": "python",
   "nbconvert_exporter": "python",
   "pygments_lexer": "ipython3",
   "version": "3.7.10"
  }
 },
 "nbformat": 4,
 "nbformat_minor": 5
}
