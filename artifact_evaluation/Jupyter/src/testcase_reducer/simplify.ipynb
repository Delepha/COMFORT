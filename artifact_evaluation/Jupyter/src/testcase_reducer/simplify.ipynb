{
 "cells": [
  {
   "cell_type": "code",
   "execution_count": null,
   "id": "mineral-liver",
   "metadata": {},
   "outputs": [],
   "source": [
    "import Ipynb_importer\n",
    "from detection.harness import Harness\n",
    "from testcase_reducer import reduce_by_block\n",
    "\n",
    "\n",
    "def simplify(testcase, with_output_info=False):\n",
    "    harness = Harness()\n",
    "    harness_result = harness.run_testcase(testcase=testcase)\n",
    "    simplified_testcase = reduce_by_block.simple_by_block(harness_result,  with_output_info=with_output_info)\n",
    "    # 测试用例已经最简,无法被继续精简\n",
    "    if simplified_testcase is None:\n",
    "        return harness_result.testcase\n",
    "    else:\n",
    "        return simplified_testcase\n"
   ]
  }
 ],
 "metadata": {
  "kernelspec": {
   "display_name": "Python 3",
   "language": "python",
   "name": "python3"
  },
  "language_info": {
   "codemirror_mode": {
    "name": "ipython",
    "version": 3
   },
   "file_extension": ".py",
   "mimetype": "text/x-python",
   "name": "python",
   "nbconvert_exporter": "python",
   "pygments_lexer": "ipython3",
   "version": "3.7.10"
  }
 },
 "nbformat": 4,
 "nbformat_minor": 5
}
