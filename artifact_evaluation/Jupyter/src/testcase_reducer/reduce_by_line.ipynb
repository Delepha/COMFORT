{
 "cells": [
  {
   "cell_type": "code",
   "execution_count": null,
   "id": "fitted-kinase",
   "metadata": {},
   "outputs": [],
   "source": [
    "from testcase_reducer import simplifyTestcaseCore\n",
    "from detection import Result\n",
    "\n",
    "\n",
    "def simple_by_statement(init_result: Result.HarnessResult, with_output_info=False):\n",
    "    \"\"\"\n",
    "    精简成功则返回精简后的测试用例，否则返回None\n",
    "    :param init_result:\n",
    "    :param optimization:\n",
    "    :param multi_threads:\n",
    "    :param with_output_info:\n",
    "    :return:\n",
    "    \"\"\"\n",
    "    original_testcase = init_result.testcase.strip()\n",
    "    # 直接将list的变量名赋值给变量时，是将list的引用赋值给变量\n",
    "    testcase_last_list = original_testcase.split(\"\\n\")  # 上一轮精简后的测试用例\n",
    "    tmp_testcase_list = testcase_last_list[:]  # 遍历一行语句就可能改变，改变条件是能精简\n",
    "    loop_counter = 0\n",
    "    # 为什么只进行两轮精简的原因：参考lithium的精简算法\n",
    "    for index in range(2):\n",
    "        loop_counter += 1\n",
    "        # print(f\"第{loop_counter}轮精简\")\n",
    "        for row in range(len(tmp_testcase_list)-1, -1, -1):  # 从后向前简化能够减少迭代的次数\n",
    "            tmp = tmp_testcase_list[:]\n",
    "            # print(f\"正在精简第{row+1}行\")\n",
    "            tmp.pop(row)\n",
    "            removable = simplifyTestcaseCore.is_removable(init_result, \"\\n\".join(tmp), with_output_info=with_output_info)\n",
    "            if removable:\n",
    "                # print(f\"第 {row+1} 成功的被精简\")\n",
    "                tmp_testcase_list = tmp[:]  # 简化成功\n",
    "        if len(testcase_last_list) == len(tmp_testcase_list):  # 已经无法精简了\n",
    "            # 这一轮无法被精简，下一轮也不可能被精简\n",
    "            break\n",
    "        testcase_last_list = tmp_testcase_list[:]\n",
    "        # print(f\"第 {loop_counter} 轮精简有效\")\n",
    "    reduced_testcase = \"\\n\".join(testcase_last_list)\n",
    "    if original_testcase != reduced_testcase:\n",
    "        return reduced_testcase\n",
    "    else:\n",
    "        return None\n",
    "\n"
   ]
  }
 ],
 "metadata": {
  "kernelspec": {
   "display_name": "Python 3",
   "language": "python",
   "name": "python3"
  },
  "language_info": {
   "codemirror_mode": {
    "name": "ipython",
    "version": 3
   },
   "file_extension": ".py",
   "mimetype": "text/x-python",
   "name": "python",
   "nbconvert_exporter": "python",
   "pygments_lexer": "ipython3",
   "version": "3.7.10"
  }
 },
 "nbformat": 4,
 "nbformat_minor": 5
}
