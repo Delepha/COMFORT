{
 "cells": [
  {
   "cell_type": "code",
   "execution_count": null,
   "id": "signed-grace",
   "metadata": {},
   "outputs": [],
   "source": [
    "import execjs\n",
    "import Ipynb_importer\n",
    "\n",
    "\n",
    "def mutate_testcase(file_path):\n",
    "    \"\"\"\n",
    "    mutate testcase according ECMAScript-262 10 edition\n",
    "    :param file_path: the file that contain the testcase and API nodes\n",
    "    :return: the mutated tastcases\n",
    "    \"\"\"\n",
    "    mutation = execjs.compile(\"\"\"\n",
    "        let {testcaseMutation} = require(\"./src/testcase_mutation/mutation\")\n",
    "\n",
    "        function mutation(filePath){\n",
    "            return testcaseMutation(filePath);\n",
    "        }\n",
    "     \"\"\")\n",
    "\n",
    "    return mutation.call(\"mutation\", str(file_path))\n",
    "\n",
    "\n",
    "def get_info(file_path):\n",
    "    getter = execjs.compile(\"\"\"\n",
    "        let {get_senmantic_info} = require(\"./src/testcase_mutation/mutation\")\n",
    "        function get(filePath){\n",
    "            return get_senmantic_info(filePath);\n",
    "        }\n",
    "     \"\"\")\n",
    "    return getter.call(\"get\", str(file_path))"
   ]
  }
 ],
 "metadata": {
  "kernelspec": {
   "display_name": "Python 3",
   "language": "python",
   "name": "python3"
  },
  "language_info": {
   "codemirror_mode": {
    "name": "ipython",
    "version": 3
   },
   "file_extension": ".py",
   "mimetype": "text/x-python",
   "name": "python",
   "nbconvert_exporter": "python",
   "pygments_lexer": "ipython3",
   "version": "3.7.10"
  }
 },
 "nbformat": 4,
 "nbformat_minor": 5
}
