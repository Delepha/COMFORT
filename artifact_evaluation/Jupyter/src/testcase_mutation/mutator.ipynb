{
 "cells": [
  {
   "cell_type": "code",
   "execution_count": null,
   "id": "great-bible",
   "metadata": {},
   "outputs": [],
   "source": [
    "import json\n",
    "import pathlib\n",
    "import tempfile\n",
    "import Ipynb_importer\n",
    "\n",
    "from utils import config\n",
    "from testcase_mutation.getApisFromTestcase import ESAPI\n",
    "from testcase_mutation.getMutatedTestcase import mutate_testcase, get_info\n",
    "\n",
    "\n",
    "class Mutator:\n",
    "    def __init__(self):\n",
    "        self.instance = ESAPI(get_config())\n",
    "\n",
    "    def get_semantic_info(self, testcase):\n",
    "        nodes = self.instance.parse_function_nodes(testcase)\n",
    "        all_semantic_info = []\n",
    "        if len(nodes) > 0:\n",
    "            counter = self.instance.count_es_apis_in_testcase(nodes)\n",
    "            api_node_info = {\"testcase\": testcase, \"nodes\": nodes, \"counter\": counter}\n",
    "            with tempfile.NamedTemporaryFile(prefix=\"javascriptTestcase_\", suffix=\".js\", delete=True) as f:\n",
    "                api_node_info_path = pathlib.Path(f.name)\n",
    "                with open(api_node_info_path, \"w+\") as f:\n",
    "                    json.dump(api_node_info, f)\n",
    "                try:\n",
    "                    all_semantic_info = get_info(api_node_info_path)\n",
    "                except Exception as e:\n",
    "                    pass\n",
    "\n",
    "        return all_semantic_info\n",
    "    \n",
    "        \n",
    "    def mutate(self, testcase):\n",
    "        nodes = self.instance.parse_function_nodes(testcase)\n",
    "\n",
    "        mutated_testcase_set = [testcase]\n",
    "        if len(nodes) > 0:\n",
    "            counter = self.instance.count_es_apis_in_testcase(nodes)\n",
    "\n",
    "            api_node_info = {\"testcase\": testcase, \"nodes\": nodes, \"counter\": counter}\n",
    "            with tempfile.NamedTemporaryFile(prefix=\"javascriptTestcase_\", suffix=\".js\", delete=True) as f:\n",
    "                api_node_info_path = pathlib.Path(f.name)\n",
    "                with open(api_node_info_path, \"w+\") as f:\n",
    "                    json.dump(api_node_info, f)\n",
    "                try:\n",
    "                    mutated_testcase_set = set(mutate_testcase(api_node_info_path))\n",
    "                    \n",
    "                except Exception as e:\n",
    "                    pass\n",
    "        return mutated_testcase_set\n",
    "\n",
    "\n",
    "def get_config():\n",
    "    return config.init_config()[\"ESApis\"]\n"
   ]
  }
 ],
 "metadata": {
  "kernelspec": {
   "display_name": "Python 3",
   "language": "python",
   "name": "python3"
  },
  "language_info": {
   "codemirror_mode": {
    "name": "ipython",
    "version": 3
   },
   "file_extension": ".py",
   "mimetype": "text/x-python",
   "name": "python",
   "nbconvert_exporter": "python",
   "pygments_lexer": "ipython3",
   "version": "3.7.10"
  }
 },
 "nbformat": 4,
 "nbformat_minor": 5
}
