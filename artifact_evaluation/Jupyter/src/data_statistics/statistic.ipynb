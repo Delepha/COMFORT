{
 "cells": [
  {
   "cell_type": "code",
   "execution_count": 3,
   "id": "lyric-scanner",
   "metadata": {},
   "outputs": [
    {
     "name": "stdout",
     "output_type": "stream",
     "text": [
      "bug 数量统计结果如下:\n",
      "{'CodeGen': [42, 49], 'Implementation': [41, 45], 'Parser': [13, 15], 'RegExp Engine': [8, 9], 'Strict Mode': [8, 8], 'Optimizer': [3, 3]}\n"
     ]
    }
   ],
   "source": [
    "import sqlite3 as db\n",
    "\n",
    "def readFromDB(conn,exectCmd,params):\n",
    "    cursor = conn.cursor()\n",
    "    cursor.execute(exectCmd,params)\n",
    "    results = cursor.fetchall()[0][0]\n",
    "    return results\n",
    "\n",
    "def statistic(db_path,dict):\n",
    "    conn = db.connect(db_path)\n",
    "    # SQL query model\n",
    "    sql = 'select count(*) from bug_info where \"Affected JS Engine Components\" = ? and State = ?; '\n",
    "    result = dict\n",
    "    for k in dict.keys():\n",
    "        try:\n",
    "            # Execute SQL statements with parameters k and \"Fixed\"\n",
    "            params = [k, \"Fixed\"]\n",
    "            FixedNum = readFromDB(conn, sql, params)\n",
    "            result[k].append(FixedNum)\n",
    "            # Execute SQL statements with parameters k and \"Verified\"\n",
    "            params = [k,\"Verified\"]\n",
    "            VerifiedNum = readFromDB(conn, sql, params)\n",
    "            result[k].append(FixedNum+VerifiedNum)\n",
    "        except:\n",
    "            print (\"Error: unable to fetch data\")\n",
    "\n",
    "    # close the connection\n",
    "    conn.close()\n",
    "    return result\n",
    "\n",
    "def statistic_from_bug_db(db_path, dict):\n",
    "    result = statistic(db_path,dict)\n",
    "    return result\n",
    "\n",
    "if __name__ == \"__main__\":\n",
    "    db_path = r\"/mnt/aliyun/COMFORT/data/Bug_info.db\"\n",
    "    dict = {\"CodeGen\": [], \"Implementation\": [], \"Parser\": [], \"RegExp Engine\": [], \"Strict Mode\": [], \"Optimizer\": []}\n",
    "    result = statistic_from_bug_db(db_path, dict)\n",
    "    print(\"bug 数量统计结果如下:\")\n",
    "    print(result)"
   ]
  },
  {
   "cell_type": "code",
   "execution_count": null,
   "id": "rising-means",
   "metadata": {},
   "outputs": [],
   "source": []
  },
  {
   "cell_type": "code",
   "execution_count": null,
   "id": "tender-bulletin",
   "metadata": {},
   "outputs": [],
   "source": []
  }
 ],
 "metadata": {
  "kernelspec": {
   "display_name": "Python 3",
   "language": "python",
   "name": "python3"
  },
  "language_info": {
   "codemirror_mode": {
    "name": "ipython",
    "version": 3
   },
   "file_extension": ".py",
   "mimetype": "text/x-python",
   "name": "python",
   "nbconvert_exporter": "python",
   "pygments_lexer": "ipython3",
   "version": "3.7.10"
  }
 },
 "nbformat": 4,
 "nbformat_minor": 5
}
