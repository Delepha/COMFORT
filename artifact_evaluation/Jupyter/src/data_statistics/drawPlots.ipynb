{
 "cells": [
  {
   "cell_type": "code",
   "execution_count": 1,
   "id": "aware-flower",
   "metadata": {},
   "outputs": [
    {
     "data": {
      "image/png": "[encoded data removed]",
      "text/plain": [
       "<Figure size 432x288 with 1 Axes>"
      ]
     },
     "metadata": {
      "needs_background": "light"
     },
     "output_type": "display_data"
    }
   ],
   "source": [
    "import matplotlib.pyplot as plt\n",
    "from matplotlib.ticker import MultipleLocator\n",
    "\n",
    "\n",
    "\n",
    "def extractMetrics(type, result):\n",
    "    # 对Bug统计情况画图\n",
    "    CodeGen_number = {\"Confirmed Bug\": result['CodeGen'][1], \"Fixed Bug\": result['CodeGen'][0]}\n",
    "    CodeGen = CodeGen_number[type]\n",
    "    Implementation_number = {\"Confirmed Bug\": result['Implementation'][1], \"Fixed Bug\": result['Implementation'][0]}\n",
    "    Implementation = Implementation_number[type]\n",
    "    Parser_number = {\"Confirmed Bug\": result['Parser'][1], \"Fixed Bug\": result['Parser'][0]}\n",
    "    Parser = Parser_number[type]\n",
    "    RegExp_Engine_number = {\"Confirmed Bug\": result['RegExp Engine'][1], \"Fixed Bug\": result['RegExp Engine'][0]}\n",
    "    RegExp_Engine = RegExp_Engine_number[type]\n",
    "    Strict_Mode_number = {\"Confirmed Bug\": result['Strict Mode'][1], \"Fixed Bug\": result['Strict Mode'][0]}\n",
    "    Strict_Mode = Strict_Mode_number[type]\n",
    "    Optimizer_number = {\"Confirmed Bug\": result['Optimizer'][1], \"Fixed Bug\": result['Optimizer'][0]}\n",
    "    Optimizer = Optimizer_number[type]\n",
    "\n",
    "    return [CodeGen, Implementation, Parser, RegExp_Engine, Strict_Mode, Optimizer]\n",
    "\n",
    "def drawBars(result):\n",
    "    arguments = [\"CodeGen\", \"Implementation\", \"Parser\", \"RegExp Engine\", \"Strict Mode\", \"Optimizer\"]\n",
    "    Confirmed = extractMetrics(\"Confirmed Bug\", result)\n",
    "    Fixed = extractMetrics(\"Fixed Bug\", result)\n",
    "    types = [Confirmed, Fixed]\n",
    "    types_names = [\"Confirmed Bug\", \"Fixed Bug\"]\n",
    "    fc = ['k', 'dimgray', 'grey', 'darkgray', 'lightgray', 'gainsboro']\n",
    "\n",
    "    x = list(range(len(Confirmed)))\n",
    "    total_width, n = 2, 6\n",
    "    width = total_width / n\n",
    "\n",
    "    # 设置主次刻度间隔\n",
    "    ymajorLocator = MultipleLocator(20)\n",
    "    yminorLocator = MultipleLocator(10)\n",
    "\n",
    "    # 设置y轴刻度值\n",
    "    plt.yticks([0, 20, 40, 60])\n",
    "    plt.ylim(0, 60)\n",
    "    # 设置主次刻度线\n",
    "    plt.grid(which=\"major\", axis=\"y\", linestyle=\"-\")\n",
    "    plt.grid(which=\"minor\", axis=\"y\", linestyle=\"--\")\n",
    "    # 显示主次刻度\n",
    "    plt.gca().yaxis.set_major_locator(ymajorLocator)\n",
    "    plt.gca().yaxis.set_minor_locator(yminorLocator)\n",
    "\n",
    "    plt.xticks(rotation=10)\n",
    "    plt.xlabel(\"JS Compontents\")\n",
    "    plt.ylabel(\"Number of Bugs\")\n",
    "    # 显示柱状图\n",
    "    for i in range(len(types)):\n",
    "        if i == len(types) - 3:\n",
    "            # zorder越大，表示柱子越靠后，不会被虚线覆盖\n",
    "            plt.bar(x, types[i], width=width, label=types_names[i], tick_label=arguments, fc=fc[i], zorder=2)\n",
    "        else:\n",
    "            plt.bar(x, types[i], width=width, label=types_names[i], tick_label=arguments, fc=fc[i], zorder=2)\n",
    "        for j in range(len(x)):\n",
    "            x[j] = x[j] + width\n",
    "\n",
    "    plt.legend(loc='upper center', fontsize=10, ncol=3)\n",
    "    plt.show()\n",
    "    plt.style.use('ggplot')\n",
    "\n",
    "if __name__ == \"__main__\":\n",
    "    result = {'CodeGen': [42, 49], 'Implementation': [41, 45], 'Parser': [13, 15], 'RegExp Engine': [8, 9], 'Strict Mode': [8, 8], 'Optimizer': [3, 3]}\n",
    "    drawBars(result)"
   ]
  },
  {
   "cell_type": "code",
   "execution_count": null,
   "id": "abroad-piano",
   "metadata": {},
   "outputs": [],
   "source": []
  }
 ],
 "metadata": {
  "kernelspec": {
   "display_name": "Python 3",
   "language": "python",
   "name": "python3"
  },
  "language_info": {
   "codemirror_mode": {
    "name": "ipython",
    "version": 3
   },
   "file_extension": ".py",
   "mimetype": "text/x-python",
   "name": "python",
   "nbconvert_exporter": "python",
   "pygments_lexer": "ipython3",
   "version": "3.7.10"
  }
 },
 "nbformat": 4,
 "nbformat_minor": 5
}
