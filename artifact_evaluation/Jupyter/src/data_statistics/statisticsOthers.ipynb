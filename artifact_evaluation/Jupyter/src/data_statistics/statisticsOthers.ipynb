{
 "cells": [
  {
   "cell_type": "code",
   "execution_count": 1,
   "id": "reduced-survivor",
   "metadata": {},
   "outputs": [
    {
     "name": "stdout",
     "output_type": "stream",
     "text": [
      "{'COMFORT_info': {'Submitted': 60, 'Confirmed': 50, 'Fixed': 48}, 'DIE_info': {'Submitted': 30, 'Confirmed': 19, 'Fixed': 9}, 'Fuzzilli_info': {'Submitted': 16, 'Confirmed': 12, 'Fixed': 9}, 'Montage_info': {'Submitted': 15, 'Confirmed': 7, 'Fixed': 5}, 'DeepSmith_info': {'Submitted': 6, 'Confirmed': 6, 'Fixed': 4}, 'CodeAlchemist_info': {'Submitted': 11, 'Confirmed': 8, 'Fixed': 5}}\n",
      "19\n"
     ]
    }
   ],
   "source": [
    "import sqlite3 as db\n",
    "\n",
    "def readFromDB(conn,exectCmd,params = None):\n",
    "    cursor = conn.cursor()\n",
    "    if params is not None:\n",
    "        cursor.execute(exectCmd,params)\n",
    "    else:\n",
    "        cursor.execute(exectCmd)\n",
    "    results = cursor.fetchall()[0][0]\n",
    "    return results\n",
    "\n",
    "def statistic(db_path,tables):\n",
    "    conn = db.connect(db_path)\n",
    "    for t in tables.keys():\n",
    "        result = {\"Submitted\": 0, \"Confirmed\": 0, \"Fixed\": 0}\n",
    "        try:\n",
    "            sql = \"select count(*) from \"+t\n",
    "            result[\"Submitted\"] = readFromDB(conn, sql)\n",
    "\n",
    "            # SQL query model\n",
    "            sql = 'select count(*) from ' + t + ' where State = ?; '\n",
    "            # Execute SQL statements with parameter \"Fixed\"\n",
    "            params = [\"Fixed\"]\n",
    "            FixedNum = readFromDB(conn, sql, params)\n",
    "            result[\"Fixed\"] = FixedNum\n",
    "            # Execute SQL statements with parameter \"Verified\"\n",
    "            params = [\"Verified\"]\n",
    "            VerifiedNum = readFromDB(conn, sql, params)\n",
    "            result[\"Confirmed\"] = FixedNum+VerifiedNum\n",
    "            tables[t] = result\n",
    "            #print(tables)\n",
    "        except:\n",
    "            print (\"Error: unable to fetch data\")\n",
    "\n",
    "    # close the connection\n",
    "    conn.close()\n",
    "    return tables\n",
    "\n",
    "if __name__ == \"__main__\":\n",
    "    db_path = r\"/mnt/aliyun/COMFORT/data/Bug_info.db\"\n",
    "    table_name = {\"COMFORT_info\": [], \"DIE_info\":[], \"Fuzzilli_info\":[],\"Montage_info\":[],\"DeepSmith_info\":[], \"CodeAlchemist_info\":[]}\n",
    "    result = statistic(db_path,table_name)\n",
    "    print(result)\n",
    "    print(result['DIE_info']['Confirmed'])"
   ]
  },
  {
   "cell_type": "code",
   "execution_count": null,
   "id": "infinite-belly",
   "metadata": {},
   "outputs": [],
   "source": []
  }
 ],
 "metadata": {
  "kernelspec": {
   "display_name": "Python 3",
   "language": "python",
   "name": "python3"
  },
  "language_info": {
   "codemirror_mode": {
    "name": "ipython",
    "version": 3
   },
   "file_extension": ".py",
   "mimetype": "text/x-python",
   "name": "python",
   "nbconvert_exporter": "python",
   "pygments_lexer": "ipython3",
   "version": "3.7.10"
  }
 },
 "nbformat": 4,
 "nbformat_minor": 5
}
