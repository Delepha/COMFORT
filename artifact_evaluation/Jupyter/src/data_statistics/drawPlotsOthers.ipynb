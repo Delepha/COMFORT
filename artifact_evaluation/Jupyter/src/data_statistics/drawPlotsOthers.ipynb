{
 "cells": [
  {
   "cell_type": "code",
   "execution_count": 1,
   "id": "alternative-arrow",
   "metadata": {},
   "outputs": [
    {
     "data": {
      "image/png": "[encoded data removed]",
      "text/plain": [
       "<Figure size 432x288 with 1 Axes>"
      ]
     },
     "metadata": {
      "needs_background": "light"
     },
     "output_type": "display_data"
    }
   ],
   "source": [
    "import matplotlib.pyplot as plt\n",
    "from matplotlib.ticker import MultipleLocator\n",
    "\n",
    "def extractMetrics(number, result):\n",
    "    # 对各个引擎的统计结果画图\n",
    "    Submit = {\"Comfort\": result['COMFORT_info']['Submitted'], \"DIE\":result['DIE_info']['Submitted'],\n",
    "              \"Fuzzilli\":result['Fuzzilli_info']['Submitted'], \"Montage\": result['Montage_info']['Submitted'],\n",
    "              \"Deepsmith\": result['DeepSmith_info']['Submitted'], \"CodeAlchemist\": result['CodeAlchemist_info']['Submitted']}\n",
    "    Submitted = Submit[number]\n",
    "    Confirm = {\"Comfort\": result['COMFORT_info']['Confirmed'], \"DIE\":result['DIE_info']['Confirmed'],\n",
    "               \"Fuzzilli\":result['Fuzzilli_info']['Confirmed'], \"Montage\": result['Montage_info']['Confirmed'],\n",
    "              \"Deepsmith\": result['DeepSmith_info']['Confirmed'], \"CodeAlchemist\": result['CodeAlchemist_info']['Confirmed']}\n",
    "    Confirmed = Confirm[number]\n",
    "    Fix = {\"Comfort\": result['COMFORT_info']['Fixed'], \"DIE\":result['DIE_info']['Fixed'],\n",
    "               \"Fuzzilli\":result['Fuzzilli_info']['Fixed'], \"Montage\": result['Montage_info']['Fixed'],\n",
    "              \"Deepsmith\": result['DeepSmith_info']['Fixed'], \"CodeAlchemist\": result['CodeAlchemist_info']['Fixed']}\n",
    "    Fixed = Fix[number]\n",
    "    return [Submitted, Confirmed, Fixed]\n",
    "\n",
    "def drawBars(result):\n",
    "    arguments = [\"Submitted\", \"Confirmed\", \"Fixed\"]\n",
    "    comfort = extractMetrics(\"Comfort\", result)\n",
    "    die = extractMetrics(\"DIE\", result)\n",
    "    fuzzilli = extractMetrics(\"Fuzzilli\", result)\n",
    "    montage = extractMetrics(\"Montage\", result)\n",
    "    deepsmith = extractMetrics(\"Deepsmith\", result)\n",
    "    codeAlchemist = extractMetrics(\"CodeAlchemist\", result)\n",
    "    fuzzers = [comfort, die, fuzzilli, montage, deepsmith, codeAlchemist]\n",
    "    fuzzer_names = [\"Comfort\", \"DIE\", \"Fuzzilli\", \"Montage\", \"Deepsmith\", \"CodeAlchemist\"]\n",
    "    fc = ['k', 'dimgray', 'grey', 'darkgray', 'lightgray', 'gainsboro']\n",
    "\n",
    "    x = list(range(len(comfort)))\n",
    "    total_width, n = 0.8, 6\n",
    "    width = total_width / n\n",
    "\n",
    "    # 设置主次刻度间隔\n",
    "    ymajorLocator = MultipleLocator(20)\n",
    "    yminorLocator = MultipleLocator(10)\n",
    "\n",
    "    # 设置y轴刻度值\n",
    "    plt.yticks([0, 20, 40, 60, 80])\n",
    "    plt.ylim(0, 80)\n",
    "    # 设置主次刻度线\n",
    "    plt.grid(which=\"major\", axis=\"y\", linestyle=\"-\")\n",
    "    plt.grid(which=\"minor\", axis=\"y\", linestyle=\"--\")\n",
    "    # 显示主次刻度\n",
    "    plt.gca().yaxis.set_major_locator(ymajorLocator)\n",
    "    plt.gca().yaxis.set_minor_locator(yminorLocator)\n",
    "\n",
    "    plt.xlabel(\"Bug State\")\n",
    "    plt.ylabel(\"Numbers of Bugs\")\n",
    "    # 显示柱状图\n",
    "    for i in range(len(fuzzers)):\n",
    "        if i == len(fuzzers) - 3:\n",
    "            # zorder越大，表示柱子越靠后，不会被虚线覆盖\n",
    "            plt.bar(x, fuzzers[i], width=width, label=fuzzer_names[i], tick_label=arguments, fc=fc[i], zorder=2)\n",
    "        else:\n",
    "            plt.bar(x, fuzzers[i], width=width, label=fuzzer_names[i], fc=fc[i], zorder=2)\n",
    "        for j in range(len(x)):\n",
    "            x[j] = x[j] + width\n",
    "\n",
    "    plt.legend(loc='upper center', fontsize=10, ncol=3)\n",
    "    plt.show()\n",
    "    plt.style.use('ggplot')\n",
    "\n",
    "\n",
    "if __name__ == \"__main__\":\n",
    "    result = {'COMFORT_info': {'Submitted': 60, 'Confirmed': 50, 'Fixed': 48}, 'DIE_info': {'Submitted': 30, 'Confirmed': 19, 'Fixed': 9}, 'Fuzzilli_info': {'Submitted': 16, 'Confirmed': 12, 'Fixed': 9}, 'Montage_info': {'Submitted': 15, 'Confirmed': 7, 'Fixed': 5}, 'DeepSmith_info': {'Submitted': 6, 'Confirmed': 6, 'Fixed': 4}, 'CodeAlchemist_info': {'Submitted': 11, 'Confirmed': 8, 'Fixed': 5}}\n",
    "    drawBars(result)"
   ]
  },
  {
   "cell_type": "code",
   "execution_count": null,
   "id": "center-category",
   "metadata": {},
   "outputs": [],
   "source": []
  }
 ],
 "metadata": {
  "kernelspec": {
   "display_name": "Python 3",
   "language": "python",
   "name": "python3"
  },
  "language_info": {
   "codemirror_mode": {
    "name": "ipython",
    "version": 3
   },
   "file_extension": ".py",
   "mimetype": "text/x-python",
   "name": "python",
   "nbconvert_exporter": "python",
   "pygments_lexer": "ipython3",
   "version": "3.7.10"
  }
 },
 "nbformat": 4,
 "nbformat_minor": 5
}
