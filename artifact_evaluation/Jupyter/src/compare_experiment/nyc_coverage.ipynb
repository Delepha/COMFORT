{
 "cells": [
  {
   "cell_type": "markdown",
   "id": "macro-connectivity",
   "metadata": {},
   "source": [
    "利用NYC工具统计生成代码的覆盖率"
   ]
  },
  {
   "cell_type": "code",
   "execution_count": 1,
   "id": "cellular-mining",
   "metadata": {},
   "outputs": [
    {
     "name": "stdout",
     "output_type": "stream",
     "text": [
      "processing: 2\n",
      "\n",
      "coverage results:\n",
      "statement coverages: 76.92\n",
      "function coverages: 75\n",
      "branch coverages: 50\n",
      "line coverages: 76.92\n"
     ]
    }
   ],
   "source": [
    "# coding=utf-8\n",
    "\n",
    "\"\"\"\n",
    "@author: xing\n",
    "@contact: 1059252359@qq.com\n",
    "@file: nyc_coverage.py\n",
    "@date: 2021/3/2 10:19\n",
    "@desc: Use NYC to calculate code coverage\n",
    "\"\"\"\n",
    "import json\n",
    "import os\n",
    "import subprocess\n",
    "import sys\n",
    "\n",
    "corpus_dir = r\"/mnt/aliyun/qx/codeCoverage/environment/testcases/testcases_corpus\"\n",
    "report_dir = r\"/mnt/aliyun/qx/codeCoverage/environment/testcases/testcases_report\"\n",
    "temp_dir = r\"/mnt/aliyun/qx/codeCoverage/environment/testcases/testcases_nyc_output\"\n",
    "\n",
    "\n",
    "\n",
    "os.chdir(\"/mnt/aliyun/qx/codeCoverage/environment\")\n",
    "\n",
    "# 统计一个测试用例的代码覆盖率\n",
    "def coverage(file_path):\n",
    "    cmd = [\"timeout\", \"-s9\", \"60\", \"/mnt/aliyun/qx/codeCoverage/environment/node_modules/nyc/bin/nyc.js\", \"--reporter=json-summary\", \"--cache=false\",\n",
    "           \"--report-dir=\" + report_dir, \"--temp-dir=\" + temp_dir, \"--clean=false\", \"/usr/local/bin/node\", file_path]\n",
    "    p = subprocess.Popen(cmd, stdout=subprocess.PIPE, stderr=subprocess.PIPE)\n",
    "    p.communicate()\n",
    "\n",
    "\n",
    "def extractCoverage():\n",
    "    parent_dir = report_dir\n",
    "    coverage_file = os.path.join(parent_dir, \"coverage-summary.json\")\n",
    "\n",
    "    with open(coverage_file, \"r\", encoding=\"utf-8\") as f:\n",
    "        content = f.read()\n",
    "    coverage_message = json.loads(content)\n",
    "    statement_cov = coverage_message['total'][\"statements\"]['pct']\n",
    "    function_cov = coverage_message['total'][\"functions\"]['pct']\n",
    "    branch_cov = coverage_message['total'][\"branches\"]['pct']\n",
    "    line_cov = coverage_message['total'][\"lines\"]['pct']\n",
    "\n",
    "    return [statement_cov, function_cov, branch_cov, line_cov]\n",
    "\n",
    "\n",
    "def main():\n",
    "    i = 0\n",
    "    for root, dirs, files in os.walk(corpus_dir):\n",
    "        for file in files:\n",
    "            file_path = os.path.join(root, file)\n",
    "            process = \"\\rprocessing: {}\".format(str(i))\n",
    "            sys.stdout.write(process)\n",
    "            coverage(file_path)\n",
    "            i += 1\n",
    "    coverages = extractCoverage()\n",
    "    print(\"\\n\\ncoverage results:\")\n",
    "    print(\"statement coverages: %s\" % coverages[0])\n",
    "    print(\"function coverages: %s\" % coverages[1])\n",
    "    print(\"branch coverages: %s\" % coverages[2])\n",
    "    print(\"line coverages: %s\" % coverages[3])\n",
    "\n",
    "main()\n"
   ]
  },
  {
   "cell_type": "code",
   "execution_count": null,
   "id": "atlantic-anaheim",
   "metadata": {},
   "outputs": [],
   "source": []
  }
 ],
 "metadata": {
  "kernelspec": {
   "display_name": "Python 3",
   "language": "python",
   "name": "python3"
  },
  "language_info": {
   "codemirror_mode": {
    "name": "ipython",
    "version": 3
   },
   "file_extension": ".py",
   "mimetype": "text/x-python",
   "name": "python",
   "nbconvert_exporter": "python",
   "pygments_lexer": "ipython3",
   "version": "3.7.10"
  }
 },
 "nbformat": 4,
 "nbformat_minor": 5
}
