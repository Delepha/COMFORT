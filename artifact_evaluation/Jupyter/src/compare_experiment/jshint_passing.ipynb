{
 "cells": [
  {
   "cell_type": "markdown",
   "id": "round-intention",
   "metadata": {},
   "source": [
    "统计生成代码的jshint过滤率"
   ]
  },
  {
   "cell_type": "code",
   "execution_count": 1,
   "id": "cooked-adelaide",
   "metadata": {},
   "outputs": [
    {
     "name": "stdout",
     "output_type": "stream",
     "text": [
      "processing: 9\n",
      "jshint passing rate:80.0%\n"
     ]
    }
   ],
   "source": [
    "#!/usr/bin/env python\n",
    "# coding=utf-8\n",
    "\n",
    "\"\"\"\n",
    "@author: xing\n",
    "@contact: 1059252359@qq.com\n",
    "@file: jshint_passing.py\n",
    "@date: 2021/3/2 11:33\n",
    "@desc: jshint passing rate\n",
    "\"\"\"\n",
    "import os\n",
    "import subprocess\n",
    "import sys\n",
    "\n",
    "os.chdir(\"/mnt/aliyun/qx/codeCoverage/environment\")\n",
    "\n",
    "\n",
    "def jshint_checking(file_path):\n",
    "    file_content = open(file_path).read()\n",
    "    testcase_content = \"var NISLFuzzingFunc = \" + file_content + \";\"\n",
    "    temp_file = os.path.join(\"/mnt/aliyun/qx/temp\", os.path.basename(file_path))\n",
    "    with open(temp_file, \"w\", encoding='utf-8') as f:\n",
    "        f.write(testcase_content)\n",
    "\n",
    "    # 进行uglifyjs过滤\n",
    "    cmd = ['timeout', '120s', 'node', '--max_old_space_size=4096', '/mnt/aliyun/qx/codeCoverage/environment/node_modules/jshint/bin/jshint',\n",
    "           temp_file]\n",
    "    if sys.platform.startswith('win'):  # 假如是windows\n",
    "        p1 = subprocess.Popen(cmd, stdout=subprocess.PIPE, shell=True)\n",
    "    else:  # 假如是linux\n",
    "        p1 = subprocess.Popen(cmd, stdout=subprocess.PIPE)\n",
    "    stdout = p1.communicate()[0]\n",
    "    if stdout.__len__() > 0:\n",
    "        jshint_flag = 0\n",
    "    else:  # 通过了检查，此时 test_file_name中就是美化后的代码\n",
    "        jshint_flag = 1\n",
    "    os.remove(temp_file)\n",
    "    return jshint_flag\n",
    "\n",
    "\n",
    "if __name__ == '__main__':\n",
    "    dir_path = r\"/mnt/aliyun/qx/codeCoverage/environment/functions\"\n",
    "    total = 0\n",
    "    passing = 0\n",
    "    for root, dirs, files in os.walk(dir_path):\n",
    "        for file in files:\n",
    "            process = \"\\rprocessing: {}\".format(str(total))\n",
    "            sys.stdout.write(process)\n",
    "            file_path = os.path.join(root, file)\n",
    "            if jshint_checking(file_path):\n",
    "                passing += 1\n",
    "            total += 1\n",
    "    print(\"\\njshint passing rate:%s\" %(str((passing/total)*100)+\"%\"))"
   ]
  },
  {
   "cell_type": "code",
   "execution_count": null,
   "id": "packed-carter",
   "metadata": {},
   "outputs": [],
   "source": []
  }
 ],
 "metadata": {
  "kernelspec": {
   "display_name": "Python 3",
   "language": "python",
   "name": "python3"
  },
  "language_info": {
   "codemirror_mode": {
    "name": "ipython",
    "version": 3
   },
   "file_extension": ".py",
   "mimetype": "text/x-python",
   "name": "python",
   "nbconvert_exporter": "python",
   "pygments_lexer": "ipython3",
   "version": "3.7.10"
  }
 },
 "nbformat": 4,
 "nbformat_minor": 5
}
