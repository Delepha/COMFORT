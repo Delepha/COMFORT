{
 "cells": [
  {
   "cell_type": "code",
   "execution_count": null,
   "id": "flush-haiti",
   "metadata": {},
   "outputs": [],
   "source": [
    "import json\n",
    "import pathlib\n",
    "\n",
    "\n",
    "def init_config(config_path: str = \"./data/config-aliyun.json\"):\n",
    "    if not pathlib.Path(config_path).is_file():\n",
    "        raise Exception(f\"Configuration file not exist: {pathlib.Path(config_path).absolute().resolve()}\")\n",
    "    with open(config_path, \"r\") as f:\n",
    "        return json.load(f)\n"
   ]
  }
 ],
 "metadata": {
  "kernelspec": {
   "display_name": "Python 3",
   "language": "python",
   "name": "python3"
  },
  "language_info": {
   "codemirror_mode": {
    "name": "ipython",
    "version": 3
   },
   "file_extension": ".py",
   "mimetype": "text/x-python",
   "name": "python",
   "nbconvert_exporter": "python",
   "pygments_lexer": "ipython3",
   "version": "3.7.10"
  }
 },
 "nbformat": 4,
 "nbformat_minor": 5
}
