{
 "cells": [
  {
   "cell_type": "code",
   "execution_count": null,
   "id": "integrated-dressing",
   "metadata": {},
   "outputs": [],
   "source": [
    "def get_version(testbed: str):\n",
    "    path = [e for e in testbed.split(\" \") if e.find(\"/\") > -1][0]\n",
    "    full_name = path.split(\"/\")[-1]\n",
    "    return full_name.replace(\".jar\", \"\")\n",
    "\n",
    "\n",
    "def parse_engine_name(testbed: str):\n",
    "    return get_version(testbed).split(\"-\")[0]\n",
    "\n"
   ]
  }
 ],
 "metadata": {
  "kernelspec": {
   "display_name": "Python 3",
   "language": "python",
   "name": "python3"
  },
  "language_info": {
   "codemirror_mode": {
    "name": "ipython",
    "version": 3
   },
   "file_extension": ".py",
   "mimetype": "text/x-python",
   "name": "python",
   "nbconvert_exporter": "python",
   "pygments_lexer": "ipython3",
   "version": "3.7.10"
  }
 },
 "nbformat": 4,
 "nbformat_minor": 5
}
