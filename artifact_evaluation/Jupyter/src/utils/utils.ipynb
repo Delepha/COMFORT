{
 "cells": [
  {
   "cell_type": "code",
   "execution_count": null,
   "id": "radical-monday",
   "metadata": {},
   "outputs": [],
   "source": [
    "import json\n",
    "from collections import OrderedDict\n",
    "\n",
    "\n",
    "def print_info(info):\n",
    "    for i in info:  # i是字典\n",
    "        print(f'{i.get(\"APIName\")}:')\n",
    "        semantic_info = i.get(\"Semantic_info\")\n",
    "        for j in semantic_info:\n",
    "            if j.get('name') != 'that':\n",
    "                print(json.dumps(dict_order(j), indent=4, ensure_ascii=False))\n",
    "                \n",
    "        print('=' * 50)\n",
    "        \n",
    "        \n",
    "def dict_order(_dict):\n",
    "    \"\"\"Controls the print order of the dictionary\n",
    "    \"\"\"\n",
    "    new_dict = OrderedDict()\n",
    "    new_dict['name'] = _dict.get('name')\n",
    "    new_dict['type'] = _dict.get('type')\n",
    "    new_dict['conditions'] = _dict.get('conditions')\n",
    "    new_dict['scopes'] = _dict.get('scopes')\n",
    "    new_dict['values'] = _dict.get('values')\n",
    "    return new_dict"
   ]
  }
 ],
 "metadata": {
  "kernelspec": {
   "display_name": "Python 3",
   "language": "python",
   "name": "python3"
  },
  "language_info": {
   "codemirror_mode": {
    "name": "ipython",
    "version": 3
   },
   "file_extension": ".py",
   "mimetype": "text/x-python",
   "name": "python",
   "nbconvert_exporter": "python",
   "pygments_lexer": "ipython3",
   "version": "3.7.10"
  }
 },
 "nbformat": 4,
 "nbformat_minor": 5
}
