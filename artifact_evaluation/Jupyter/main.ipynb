{
 "cells": [
  {
   "cell_type": "markdown",
   "id": "stock-segment",
   "metadata": {},
   "source": [
    "# 53  Automated Conformance Testing for JavaScript Engines via Deep Compiler Fuzzing: Artifact - Interactive Demo\n",
    "\n",
    "\n",
    "## Preliminaries \n",
    "This interactive Jupyter notebook provides a small-scale demo for showcasing our test program generator, test case mutation, and differential tester. \n",
    "\n",
    "The main result of our paper is a list of bugs exposing by our tool. This list can be found at our public GitHub repository [COMFORT Github](https://github.com/NWU-NISL-Fuzzing/COMFORT/blob/main/artifact_evaluation). \n",
    "\n",
    "The work presented in our paper ran on a much larger dataset and for longer. For examples, the test program generator was trained on 140,000 JS programs for 30 hours on GPUs. Differential testing of JS engines was performed on 102 JS testbeds, using 250,000 synthesised JS programs, where each JS testbed ran for 200 hours on a multi-core server. \n",
    "\n",
    "### Instructions for Experimental Workflow: \n",
    "\n",
    "Before you start, please first make a copy of the notebook by going to the [landing page](http://47.241.14.25:8830/). Then select the checkbox next to the notebook titled main.ipynb, then click “Duplicate”. \n",
    "\n",
    "Click the name of the newly created Jupyter Notebook, e.g. main-Copy1.ipynb. Next, select \"Kernel\" > \"Restart & Clear Output\". \n",
    "Then, repeatedly press the play button (the tooltip is “run cell, select below”) to step through each cell of the notebook.\n",
    "\n",
    "Alternatively, select each cell in turn and use “Cell” > “Run Cell” from the menu to run specific cells. Note that some cells depend on previous cells being executed. If any errors occur, ensure all previous cells have been executed.\n",
    "\n",
    "### Important Notes\n",
    "\n",
    "**Some cells can take a few minutes to complete; please wait for the results until step to the next cell.** \n",
    "\n",
    "High load can lead to a long wait for results. This may occur if multiple reviewers are simultaneously trying to generate results.\n",
    "\n",
    "The experiments are fully customisable as the code provided in the Jupyter Notebook can be edited on the spot. Simply type your changes into the code blocks and re-run using “Cell” > “Run Cells” from the menu.\n",
    "\n",
    "### Links to The Paper\n",
    "For each step, we provide the section number of the submitted version where the relevant technique is described or data is presented. \n",
    "\n",
    "The main resuls - the discovered bugs are detailed at [the COMFORT Github repository](https://github.com/NWU-NISL-Fuzzing/COMFORT/blob/main/artifact_evaluation).\n"
   ]
  },
  {
   "cell_type": "markdown",
   "id": "understood-catering",
   "metadata": {},
   "source": [
    "## Step 1. Test  Program Generation\n",
    "\n",
    "### Step 1-1 JS program generation (Section 3.2)\n",
    "\n",
    "Here we provide a scale-downed pre-trained GPT-2 model for JS program generation. For convenience, we have also supplied a seed text for program generation. However, you can change the configurable parameters defined in the cell. \n",
    "\n",
    "*Tips: Try to repeatedly run the cell to obtain a different program*. \n"
   ]
  },
  {
   "cell_type": "code",
   "execution_count": 12,
   "id": "extreme-firewall",
   "metadata": {},
   "outputs": [
    {
     "name": "stdout",
     "output_type": "stream",
     "text": [
      "Note that: you can configure the parameters or re-run the cell to obtain a different result.\n",
      "Generating JS test program (approx 2 minutes - including model load time)...\n",
      "\n",
      "\n",
      "The generated JS program is：\n",
      "----------------------------------\n",
      "\n",
      "function() {\n",
      "var newobj=Number(1).toString(\"Hello\") === \"{2}\";\n",
      "    var prefix = \"new \" + newobj + prefix;\n",
      "}\n",
      "\n",
      "----------------------------------\n",
      "\n"
     ]
    }
   ],
   "source": [
    "# JS Program Generation\n",
    "\n",
    "import sys\n",
    "import pathlib\n",
    "sys.path.extend([str(pathlib.Path.cwd() / \"src\")])\n",
    "import Ipynb_importer\n",
    "from src.generate_model.generate import generate\n",
    "\n",
    "print(\"Note that: you can configure the parameters or re-run the cell to obtain a different result.\")\n",
    "\n",
    "\n",
    "#You can change the following parameters, top_k, top_p, temperatur, and seed texts\n",
    "#You can repeatly run this section to generate potentially different programs using the same seed text\n",
    "\n",
    "#top_k - sample only from top k tokens\n",
    "#an integer value controlling diversity. 1 means only 1 word is\n",
    "#considered for each step (token), resulting in deterministic completions,\n",
    "#0 (default) is a  special setting meaning no restrictions \n",
    "top_k = 0 \n",
    "\n",
    "# Sample from the a list of model output tokens that have a probability >= top_p\n",
    "# This parameter should take in values between 0 and 0.5.\n",
    "# It overwrites top_k if it is set to nonzero\n",
    "top_p = 0.0  \n",
    "\n",
    "#Float value controlling randomness in boltzmann distribution. \n",
    "#Lower temperature results in less random completions. As the\n",
    "#temperature approaches zero, the model will become deterministic and\n",
    "#repetitive. Higher temperature results in more random completions.\n",
    "#This value should set between 1.0 and 1.5. \n",
    "# A higher temperature can lead to longer but fewer synatically correct programs. \n",
    "#We use temperature = 1.0 in the paper\n",
    "temperature = 1.0\n",
    "\n",
    "#Seed input for program generation\n",
    "seed = '//JavascriptTop2000Functions\\nfunction() {\\nvar newobj=Number(1).toString(\"Hello\")'\n",
    "\n",
    "print(\"Generating JS test program (approx 2 minutes - including model load time)...\\n\")\n",
    "text = generate(temperature, top_p, top_k, seed)\n",
    "\n",
    "print(\"\\nThe generated JS program is：\")\n",
    "print(\"----------------------------------\\n\")\n",
    "print(text)\n",
    "print(\"----------------------------------\\n\")"
   ]
  },
  {
   "cell_type": "markdown",
   "id": "legitimate-feeding",
   "metadata": {},
   "source": [
    "### Step 1-2 Test Program Assembly \n",
    "\n",
    "We now check the generated JS program by inferring its data types to generate a calling routine to form a complete test case.  \n"
   ]
  },
  {
   "cell_type": "code",
   "execution_count": 13,
   "id": "engaged-origin",
   "metadata": {},
   "outputs": [
    {
     "name": "stdout",
     "output_type": "stream",
     "text": [
      "Assembly test program (approx 30 seconds)...\n",
      "\n",
      "Test program after creating the calling routine：\n",
      "\n",
      "----------------------------------\n",
      "\n",
      "var NISLFuzzingFunc = function() {\n",
      "var newobj=Number(1).toString(\"Hello\") === \"{2}\";\n",
      "    var prefix = \"new \" + newobj + prefix;\n",
      "}\n",
      ";\n",
      "var NISLCallingResult = NISLFuzzingFunc();\n",
      "print(NISLCallingResult);\n"
     ]
    }
   ],
   "source": [
    "# Create calling routine\n",
    "from generate_model.callable_processor import CallableProcessor\n",
    "\n",
    "print(f\"Assembly test program (approx 30 seconds)...\\n\")\n",
    "callable_processor = CallableProcessor()\n",
    "testcase = callable_processor.get_self_calling(text)\n",
    "\n",
    "print(f\"Test program after creating the calling routine：\\n\")\n",
    "print(f\"----------------------------------\\n\")\n",
    "print(testcase)"
   ]
  },
  {
   "cell_type": "markdown",
   "id": "passing-railway",
   "metadata": {},
   "source": [
    "## Step 2 Test case mutation and input data generation (Section 3.3)\n",
    "\n",
    "### Step 2-1 Query ECMA-262 database\n",
    "\n",
    "We now parse the test program to obtain the JS API calling routines and search our ECMA-262 database (constructed by ourselves) to mutate the program to generate further test cases.\n",
    "\n",
    "As an output, we print out the query results from our ECMA-262 database. A query outcome contains the following data fields:\n",
    "    - name: the argument name that passed to a JS API\n",
    "    - type: the potential type of the argument (inferred by COMFORT)\n",
    "    - conditions: the boundary values related to the inputting argument of the API\n",
    "    - scopes: the scope of randomly generated argument values, according to boundary conditions defined in ECMA-262\n",
    "    - values: a list of candidate argument values used in differential testing in the next step  \n"
   ]
  },
  {
   "cell_type": "code",
   "execution_count": 14,
   "id": "married-fabric",
   "metadata": {},
   "outputs": [
    {
     "name": "stdout",
     "output_type": "stream",
     "text": [
      "Query ECMA-262 database (approx 30 seconds)...\n",
      "\n",
      "Number.prototype.toString:\n",
      "{\n",
      "    \"name\": \"radix\",\n",
      "    \"type\": \"integer\",\n",
      "    \"conditions\": [\n",
      "        \"radix === undefined\",\n",
      "        \"radix === undefined\",\n",
      "        \"radix < 2\",\n",
      "        \"radix > 36\",\n",
      "        \"radix === 10\"\n",
      "    ],\n",
      "    \"scopes\": [\n",
      "        2,\n",
      "        36\n",
      "    ],\n",
      "    \"values\": [\n",
      "        \"undefined\",\n",
      "        10,\n",
      "        1,\n",
      "        37,\n",
      "        7,\n",
      "        \"NaN\",\n",
      "        0,\n",
      "        \"Infinity\",\n",
      "        \"-Infinity\"\n",
      "    ]\n",
      "}\n",
      "==================================================\n",
      "Number:\n",
      "{\n",
      "    \"name\": \"value\",\n",
      "    \"type\": \"number\",\n",
      "    \"conditions\": [],\n",
      "    \"scopes\": [],\n",
      "    \"values\": []\n",
      "}\n",
      "==================================================\n"
     ]
    }
   ],
   "source": [
    "import json\n",
    "from testcase_mutation.mutator import Mutator\n",
    "from utils.utils import print_info\n",
    "\n",
    "print(f\"Query ECMA-262 database (approx 30 seconds)...\\n\")\n",
    "#Test case mutator\n",
    "mutator = Mutator()\n",
    "#Query our ECMA-262 database\n",
    "query_result = mutator.get_semantic_info(testcase)\n",
    "\n",
    "#Print out ht equery\n",
    "print_info(query_result)"
   ]
  },
  {
   "cell_type": "markdown",
   "id": "convenient-behalf",
   "metadata": {},
   "source": [
    "### Step2-2 Test case mutation\n",
    "Using the query information, we mutate the generated JS programs (by changing argument values) to generate multiple test cases. "
   ]
  },
  {
   "cell_type": "code",
   "execution_count": 15,
   "id": "bored-activity",
   "metadata": {},
   "outputs": [
    {
     "name": "stdout",
     "output_type": "stream",
     "text": [
      "Test case mutation (approx 1 minute)...\n",
      "\n",
      "==================================================\n",
      "var NISLFuzzingFunc = function (nislMutationParameter0) {\n",
      "    var newobj = Number(1).toString(nislMutationParameter0) === '{2}';\n",
      "    var prefix = 'new ' + newobj + prefix;\n",
      "};\n",
      "var nislMutationArgument0 = 37;\n",
      "var NISLCallingResult = NISLFuzzingFunc(nislMutationArgument0);\n",
      "print(NISLCallingResult);\n",
      "==================================================\n",
      "var NISLFuzzingFunc = function (nislMutationParameter0) {\n",
      "    var newobj = Number(nislMutationParameter0).toString('Hello') === '{2}';\n",
      "    var prefix = 'new ' + newobj + prefix;\n",
      "};\n",
      "var nislMutationArgument0 = false;\n",
      "var NISLCallingResult = NISLFuzzingFunc(nislMutationArgument0);\n",
      "print(NISLCallingResult);\n",
      "==================================================\n",
      "var NISLFuzzingFunc = function (nislMutationParameter0) {\n",
      "    var newobj = Number(nislMutationParameter0).toString('Hello') === '{2}';\n",
      "    var prefix = 'new ' + newobj + prefix;\n",
      "};\n",
      "var nislMutationArgument0 = null;\n",
      "var NISLCallingResult = NISLFuzzingFunc(nislMutationArgument0);\n",
      "print(NISLCallingResult);\n",
      "==================================================\n",
      "var NISLFuzzingFunc = function (nislMutationParameter0) {\n",
      "    var newobj = Number(nislMutationParameter0).toString('Hello') === '{2}';\n",
      "    var prefix = 'new ' + newobj + prefix;\n",
      "};\n",
      "var nislMutationArgument0 = undefined;\n",
      "var NISLCallingResult = NISLFuzzingFunc(nislMutationArgument0);\n",
      "print(NISLCallingResult);\n",
      "==================================================\n",
      "var NISLFuzzingFunc = function (nislMutationParameter0) {\n",
      "    var newobj = Number(1).toString(nislMutationParameter0) === '{2}';\n",
      "    var prefix = 'new ' + newobj + prefix;\n",
      "};\n",
      "var nislMutationArgument0 = 10;\n",
      "var NISLCallingResult = NISLFuzzingFunc(nislMutationArgument0);\n",
      "print(NISLCallingResult);\n",
      "==================================================\n",
      "var NISLFuzzingFunc = function (nislMutationParameter0) {\n",
      "    var newobj = Number(1).toString(nislMutationParameter0) === '{2}';\n",
      "    var prefix = 'new ' + newobj + prefix;\n",
      "};\n",
      "var nislMutationArgument0 = 122828;\n",
      "var NISLCallingResult = NISLFuzzingFunc(nislMutationArgument0);\n",
      "print(NISLCallingResult);\n",
      "==================================================\n",
      "var NISLFuzzingFunc = function (nislMutationParameter0) {\n",
      "    var newobj = Number(1).toString(nislMutationParameter0) === '{2}';\n",
      "    var prefix = 'new ' + newobj + prefix;\n",
      "};\n",
      "var nislMutationArgument0 = 1;\n",
      "var NISLCallingResult = NISLFuzzingFunc(nislMutationArgument0);\n",
      "print(NISLCallingResult);\n",
      "==================================================\n",
      "var NISLFuzzingFunc = function (nislMutationParameter0) {\n",
      "    var newobj = Number(nislMutationParameter0).toString('Hello') === '{2}';\n",
      "    var prefix = 'new ' + newobj + prefix;\n",
      "};\n",
      "var nislMutationArgument0 = \"G_`V%kbkZ`\";\n",
      "var NISLCallingResult = NISLFuzzingFunc(nislMutationArgument0);\n",
      "print(NISLCallingResult);\n",
      "==================================================\n",
      "var NISLFuzzingFunc = function (nislMutationParameter0) {\n",
      "    var newobj = Number(nislMutationParameter0).toString('Hello') === '{2}';\n",
      "    var prefix = 'new ' + newobj + prefix;\n",
      "};\n",
      "var nislMutationArgument0 = [true,1026137,\"-\"];\n",
      "var NISLCallingResult = NISLFuzzingFunc(nislMutationArgument0);\n",
      "print(NISLCallingResult);\n",
      "==================================================\n",
      "var NISLFuzzingFunc = function (nislMutationParameter0) {\n",
      "    var newobj = Number(1).toString(nislMutationParameter0) === '{2}';\n",
      "    var prefix = 'new ' + newobj + prefix;\n",
      "};\n",
      "var nislMutationArgument0 = 0;\n",
      "var NISLCallingResult = NISLFuzzingFunc(nislMutationArgument0);\n",
      "print(NISLCallingResult);\n",
      "==================================================\n",
      "var NISLFuzzingFunc = function (nislMutationParameter0) {\n",
      "    var newobj = Number(1).toString(nislMutationParameter0) === '{2}';\n",
      "    var prefix = 'new ' + newobj + prefix;\n",
      "};\n",
      "var nislMutationArgument0 = 7;\n",
      "var NISLCallingResult = NISLFuzzingFunc(nislMutationArgument0);\n",
      "print(NISLCallingResult);\n",
      "==================================================\n",
      "var NISLFuzzingFunc = function (nislMutationParameter0) {\n",
      "    var newobj = Number(nislMutationParameter0).toString('Hello') === '{2}';\n",
      "    var prefix = 'new ' + newobj + prefix;\n",
      "};\n",
      "var nislMutationArgument0 = 656745;\n",
      "var NISLCallingResult = NISLFuzzingFunc(nislMutationArgument0);\n",
      "print(NISLCallingResult);\n",
      "==================================================\n",
      "var NISLFuzzingFunc = function (nislMutationParameter0) {\n",
      "    var newobj = Number(1).toString(nislMutationParameter0) === '{2}';\n",
      "    var prefix = 'new ' + newobj + prefix;\n",
      "};\n",
      "var nislMutationArgument0 = {\"0\":true,\"35328\":false,\"57807\":null,\"64097\":true,\"138043\":\"2EzriRFkYUnsZK\",\"138699\":false,\"166671\":null,\"167778\":532567,\"175767\":\"<bq&ycg#GcroS^0tG\",\"186818\":null,\"253360\":855954,\"368190\":\"%ED%AF%BF\",\"410985\":\"\",\"547256\":[],\"588924\":null,\"624173\":886237,\"631625\":[],\"636241\":true,\"673354\":true,\"688312\":\"%ED%AF%BF\",\"712329\":null,\"763833\":\"4vH5\",\"812973\":\"YLHQlkA+\",\"819514\":[],\"821022\":802398,\"830753\":false,\"860929\":\"0\",\"878092\":[],\"906417\":724620,\"916127\":\"\",\"935675\":\"Y04FnOosgQ^1?%BG%vemejZa\",\"956302\":\"VPXuR@o6(Llx\",\"1021678\":\"ZBhqZr%LO)P6Bw\",\"1029438\":[],\"fhyVxxg\":null,\"Erbe<RLXPfUI*%`inOae_sY\":[],\"\":[],\"-\":[],\"VSd0\":37019,\"l_Y\":245032,\"fah1K*kazdLx5#!5M\":[],\"%ED%AF%BF\":[],\"1wNx5~T5rXVC(?zSYI#a~lNMz\":null,\"IXjpkA>!gZUtL)xi*VJI9J\":null,\"(^YCNb`mT5RL*Gpl^0RO*~E$f_dC*\":[],\"NH66KLp504zZ~C~j$^4J*9nnVMeVvc\":\"%ED%AF%BF\",\"Fy%tUtNRL(\":\"0\",\"RdE2AJb&RMd+<pHfO>TX3%X3g2C\":[],\"VkzdfU^W>bxp\":199745,\"`cMJu7JwKz%C*>D*v6oe4CKnAgzWZcaV\":[],\"+ls*H@I@Wl8WK47!#nHq\":506357,\"s#`2\":\"-\",\"%RzvA<MkefOwdYKD<ur8(qCK\":true,\"mC>m~Tkr>U&@\":true,\"gbCdex2vp9d\":\"#t91bYwKU!(iIM5K>ac(\"};\n",
      "var NISLCallingResult = NISLFuzzingFunc(nislMutationArgument0);\n",
      "print(NISLCallingResult);\n",
      "==================================================\n",
      "var NISLFuzzingFunc = function () {\n",
      "    var newobj = Number(1).toString('Hello') === '{2}';\n",
      "    var prefix = 'new ' + newobj + prefix;\n",
      "};\n",
      "var NISLCallingResult = NISLFuzzingFunc();\n",
      "print(NISLCallingResult);\n",
      "==================================================\n",
      "var NISLFuzzingFunc = function (nislMutationParameter0) {\n",
      "    var newobj = Number(1).toString(nislMutationParameter0) === '{2}';\n",
      "    var prefix = 'new ' + newobj + prefix;\n",
      "};\n",
      "var nislMutationArgument0 = null;\n",
      "var NISLCallingResult = NISLFuzzingFunc(nislMutationArgument0);\n",
      "print(NISLCallingResult);\n",
      "==================================================\n",
      "var NISLFuzzingFunc = function (nislMutationParameter0) {\n",
      "    var newobj = Number(1).toString(nislMutationParameter0) === '{2}';\n",
      "    var prefix = 'new ' + newobj + prefix;\n",
      "};\n",
      "var nislMutationArgument0 = \"~ewSXY_f0kD?F4@Exr4x~\";\n",
      "var NISLCallingResult = NISLFuzzingFunc(nislMutationArgument0);\n",
      "print(NISLCallingResult);\n",
      "==================================================\n",
      "var NISLFuzzingFunc = function (nislMutationParameter0) {\n",
      "    var newobj = Number(1).toString(nislMutationParameter0) === '{2}';\n",
      "    var prefix = 'new ' + newobj + prefix;\n",
      "};\n",
      "var nislMutationArgument0 = true;\n",
      "var NISLCallingResult = NISLFuzzingFunc(nislMutationArgument0);\n",
      "print(NISLCallingResult);\n",
      "==================================================\n",
      "var NISLFuzzingFunc = function (nislMutationParameter0) {\n",
      "    var newobj = Number(1).toString(nislMutationParameter0) === '{2}';\n",
      "    var prefix = 'new ' + newobj + prefix;\n",
      "};\n",
      "var nislMutationArgument0 = undefined;\n",
      "var NISLCallingResult = NISLFuzzingFunc(nislMutationArgument0);\n",
      "print(NISLCallingResult);\n"
     ]
    }
   ],
   "source": [
    "print(f\"Test case mutation (approx 1 minute)...\\n\")\n",
    "\n",
    "# Step 2-2. Test case mutation\n",
    "mutator = Mutator()\n",
    "testcase_list = mutator.mutate(testcase)\n",
    "\n",
    "for i in testcase_list:\n",
    "    print('=' * 50)\n",
    "    print(i)"
   ]
  },
  {
   "cell_type": "markdown",
   "id": "chief-science",
   "metadata": {},
   "source": [
    "## Step-3 Differential Testing (Section 3.4)\n",
    "We now perform differential testing by running the test cases on multiple JS engines and compare the results. \n",
    "\n",
    "For demonstration, we terminate the process when we find a test case that required manual inspection. For our paper, we spend 200 hours on differential testing for each test JS engine. "
   ]
  },
  {
   "cell_type": "code",
   "execution_count": 16,
   "id": "simple-chamber",
   "metadata": {},
   "outputs": [
    {
     "name": "stdout",
     "output_type": "stream",
     "text": [
      "Performing differential testing (approx 2 minutes)...\n",
      "\n",
      "Inconsistent behaviour found by differential testing:\n",
      "\n",
      "------------------------------------------------------\n",
      "\n",
      "{\n",
      "    \"Differential Test Result\": {\n",
      "        \"error_type\": \"Majority JS engines throw runtime error/exception\",\n",
      "        \"output_id\": 7,\n",
      "        \"inconsistent_testbed\": \"/mnt/aliyun/.jsvu/jerryscript-7df87b7\",\n",
      "        \"classify_result\": null,\n",
      "        \"classify_id\": null\n",
      "    }\n",
      "}\n",
      "\n",
      " JS engines running results:\n",
      "------------------------------------------------------\n",
      "\n",
      "{\n",
      "    \"Harness Result\": {\n",
      "        \"testcase\": \"var NISLFuzzingFunc = function (nislMutationParameter0) {\\n    var newobj = Number(nislMutationParameter0).toString('Hello') === '{2}';\\n    var prefix = 'new ' + newobj + prefix;\\n};\\nvar nislMutationArgument0 = false;\\nvar NISLCallingResult = NISLFuzzingFunc(nislMutationArgument0);\\nprint(NISLCallingResult);\",\n",
      "        \"outputs\": [\n",
      "            {\n",
      "                \"id\": 0,\n",
      "                \"testbed\": \"/mnt/aliyun/.jsvu/engines/v8-0e44fef/x64/v8-0e44fef\",\n",
      "                \"returncode\": 1,\n",
      "                \"stdout\": \"/tmp/javascriptTestcase_73vpz004.js:2: RangeError: toString() radix argument must be between 2 and 36\\n    var newobj = Number(nislMutationParameter0).toString('Hello') === '{2}';\\n                                                ^\\nRangeError: toString() radix argument must be between 2 and 36\\n    at Number.toString (<anonymous>)\\n    at NISLFuzzingFunc (/tmp/javascriptTestcase_73vpz004.js:2:49)\\n    at /tmp/javascriptTestcase_73vpz004.js:6:25\\n\\n\",\n",
      "                \"stderr\": \"\",\n",
      "                \"duration_ms\": 394,\n",
      "                \"event_start_epoch_ms\": 1614890151874\n",
      "            },\n",
      "            {\n",
      "                \"id\": 1,\n",
      "                \"testbed\": \"/mnt/aliyun/.jsvu/engines/spidermonkey-52.9.1pre1/mozjs-52.9.1pre1/js/src/build_OPT.OBJ/dist/bin/spidermonkey-52.9.1pre1\",\n",
      "                \"returncode\": 3,\n",
      "                \"stdout\": \"\",\n",
      "                \"stderr\": \"/tmp/javascriptTestcase_73vpz004.js:2:18 RangeError: radix must be an integer at least 2 and no greater than 36\\nStack:\\n  NISLFuzzingFunc@/tmp/javascriptTestcase_73vpz004.js:2:18\\n  @/tmp/javascriptTestcase_73vpz004.js:6:25\\n\",\n",
      "                \"duration_ms\": 214,\n",
      "                \"event_start_epoch_ms\": 1614890151918\n",
      "            },\n",
      "            {\n",
      "                \"id\": 2,\n",
      "                \"testbed\": \"/mnt/aliyun/.jsvu/chakra-1.11.8\",\n",
      "                \"returncode\": 0,\n",
      "                \"stdout\": \"\",\n",
      "                \"stderr\": \"RangeError: Number.prototype.toString: invalid argument\\n   at NISLFuzzingFunc (/tmp/javascriptTestcase_73vpz004.js:2:5)\\n   at Global code (/tmp/javascriptTestcase_73vpz004.js:6:1)\\n\",\n",
      "                \"duration_ms\": 305,\n",
      "                \"event_start_epoch_ms\": 1614890151961\n",
      "            },\n",
      "            {\n",
      "                \"id\": 3,\n",
      "                \"testbed\": \"/mnt/aliyun/.jsvu/engines/WebKit-b3fa4c5/WebKit/WebKitBuild/Release/bin/javascriptCore-b3fa4c5\",\n",
      "                \"returncode\": 3,\n",
      "                \"stdout\": \"Exception: RangeError: toString() radix argument must be between 2 and 36\\ntoString@[native code]\\nNISLFuzzingFunc@/tmp/javascriptTestcase_73vpz004.js:2:57\\nglobal code@/tmp/javascriptTestcase_73vpz004.js:6:40\\n\",\n",
      "                \"stderr\": \"\",\n",
      "                \"duration_ms\": 250,\n",
      "                \"event_start_epoch_ms\": 1614890152019\n",
      "            },\n",
      "            {\n",
      "                \"id\": 4,\n",
      "                \"testbed\": \"/mnt/aliyun/.jsvu/hermes-0.1.0 -w\",\n",
      "                \"returncode\": 1,\n",
      "                \"stdout\": \"\",\n",
      "                \"stderr\": \"RangeError: Invalid radix value\\n    at toString (native)\\n    at NISLFuzzingFunc (/tmp/javascriptTestcase_73vpz004.js:2:57)\\n    at global (/tmp/javascriptTestcase_73vpz004.js:6:40)\\n\",\n",
      "                \"duration_ms\": 170,\n",
      "                \"event_start_epoch_ms\": 1614890152098\n",
      "            },\n",
      "            {\n",
      "                \"id\": 5,\n",
      "                \"testbed\": \"/mnt/aliyun/.jsvu/quickjs-2019-09-01\",\n",
      "                \"returncode\": 1,\n",
      "                \"stdout\": \"RangeError: radix must be between 2 and 36\\n    at NISLFuzzingFunc (/tmp/javascriptTestcase_73vpz004.js:2)\\n    at <eval> (/tmp/javascriptTestcase_73vpz004.js:6)\\n\\n\",\n",
      "                \"stderr\": \"\",\n",
      "                \"duration_ms\": 135,\n",
      "                \"event_start_epoch_ms\": 1614890152134\n",
      "            },\n",
      "            {\n",
      "                \"id\": 6,\n",
      "                \"testbed\": \"/mnt/aliyun/.jsvu/graaljs-20.1.0\",\n",
      "                \"returncode\": 7,\n",
      "                \"stdout\": \"\",\n",
      "                \"stderr\": \"RangeError: toString() expects radix in range 2-36\\n\\tat <js> NISLFuzzingFunc(../../../tmp/javascriptTestcase_73vpz004.js:2:75-122)\\n\\tat <js> :program(../../../tmp/javascriptTestcase_73vpz004.js:6:240-277)\\n\",\n",
      "                \"duration_ms\": 155,\n",
      "                \"event_start_epoch_ms\": 1614890152178\n",
      "            },\n",
      "            {\n",
      "                \"id\": 7,\n",
      "                \"testbed\": \"/mnt/aliyun/.jsvu/jerryscript-7df87b7\",\n",
      "                \"returncode\": 0,\n",
      "                \"stdout\": \"undefined\\n\",\n",
      "                \"stderr\": \"\",\n",
      "                \"duration_ms\": 141,\n",
      "                \"event_start_epoch_ms\": 1614890152233\n",
      "            },\n",
      "            {\n",
      "                \"id\": 8,\n",
      "                \"testbed\": \"java -jar  /mnt/aliyun/.jsvu/rhino-1.7.11.jar -debug -version 200\",\n",
      "                \"returncode\": 3,\n",
      "                \"stdout\": \"\",\n",
      "                \"stderr\": \"js: \\\"/tmp/javascriptTestcase_73vpz004.js\\\", line 2: illegal radix 0.\\n\\tat /tmp/javascriptTestcase_73vpz004.js:2 (anonymous)\\n\\tat /tmp/javascriptTestcase_73vpz004.js:6\\n\\n\",\n",
      "                \"duration_ms\": 928,\n",
      "                \"event_start_epoch_ms\": 1614890152268\n",
      "            },\n",
      "            {\n",
      "                \"id\": 9,\n",
      "                \"testbed\": \"/mnt/aliyun/.jsvu/engines/jdk-12.0.1/bin/jjs --no-syntax-extensions=true --no-deprecation-warning=true\",\n",
      "                \"returncode\": 102,\n",
      "                \"stdout\": \"\",\n",
      "                \"stderr\": \"/tmp/javascriptTestcase_73vpz004.js:2 RangeError: radix argument must be in [2, 36]\\n\",\n",
      "                \"duration_ms\": 1739,\n",
      "                \"event_start_epoch_ms\": 1614890152268\n",
      "            }\n",
      "        ]\n",
      "    }\n",
      "}\n"
     ]
    }
   ],
   "source": [
    "# step3. Differential Fuzzing\n",
    "\n",
    "from detection import harness, Result\n",
    "\n",
    "\n",
    "print(f\"Performing differential testing (approx 2 minutes)...\")\n",
    "\n",
    "harness = harness.Harness()\n",
    "\n",
    "harness_result = None  # The execution results of all JS engines\n",
    "test_result_list = None  # A list of suspicious test results found through differential testing\n",
    "for test_case in testcase_list:\n",
    "    # The differential testing outputs\n",
    "    harness_result = harness.run_testcase(test_case)\n",
    "    \n",
    "    # Inconsistent testing result list \n",
    "    test_result_list = Result.differential_test(harness_result)\n",
    "    \n",
    "    # The test case did not trigger any suspicious behaviour, continue\n",
    "    if len(test_result_list) < 1:\n",
    "        continue\n",
    "        \n",
    "    print(f\"\\nInconsistent behaviour found by differential testing:\\n\")\n",
    "    print(f\"------------------------------------------------------\\n\")\n",
    "        \n",
    "    for interesting_test_result in test_result_list:\n",
    "        print(interesting_test_result)\n",
    "        \n",
    "    print(f\"\\n JS engines running results:\")\n",
    "    print(f\"------------------------------------------------------\\n\")\n",
    "    print(f\"{harness_result}\")\n",
    "    break  \n",
    "    \n",
    "    # For the purpose of demonstration, we terminate the process when we find a test case that required manually inspection\n",
    "    \n",
    "if test_result_list is None or len(test_result_list) < 1:\n",
    "    print(\"\\033[1;31;48mTips: No Potential Non-Conformance Behaviors Detected, Please Restrart from Step 1\\033[0m\")"
   ]
  },
  {
   "cell_type": "markdown",
   "id": "outstanding-programming",
   "metadata": {},
   "source": [
    "## Step 4 Test Case Reduction (Section 3.5)\n",
    "We run a simple test case reduction process to minimize the interesting test cases found in differential testing before presenting them to the devloper for manual inspection. "
   ]
  },
  {
   "cell_type": "code",
   "execution_count": 17,
   "id": "horizontal-produce",
   "metadata": {},
   "outputs": [
    {
     "name": "stdout",
     "output_type": "stream",
     "text": [
      "Simplifying test cases (approx. 2 minutes)...\n",
      "\n",
      "Original test case:\n",
      "------------------------------------------------------\n",
      "\n",
      "\n",
      "var NISLFuzzingFunc = function (nislMutationParameter0) {\n",
      "    var newobj = Number(nislMutationParameter0).toString('Hello') === '{2}';\n",
      "    var prefix = 'new ' + newobj + prefix;\n",
      "};\n",
      "var nislMutationArgument0 = false;\n",
      "var NISLCallingResult = NISLFuzzingFunc(nislMutationArgument0);\n",
      "print(NISLCallingResult);\n",
      "\n",
      "Simplified test case:\n",
      "------------------------------------------------------\n",
      "\n",
      "\n",
      "var NISLFuzzingFunc = function (nislMutationParameter0) {\n",
      "    var newobj = Number(nislMutationParameter0).toString('Hello') === '{2}';\n",
      "};\n",
      "var nislMutationArgument0 = false;\n",
      "var NISLCallingResult = NISLFuzzingFunc(nislMutationArgument0);\n"
     ]
    }
   ],
   "source": [
    "# step4. Test Case Reduction\n",
    "\n",
    "from testcase_reducer.simplify import simplify\n",
    "\n",
    "\n",
    "print(\"Simplifying test cases (approx. 2 minutes)...\\n\")\n",
    "reduced_test_case = simplify(harness_result.testcase)\n",
    "print(f\"Original test case:\")\n",
    "print(f\"------------------------------------------------------\\n\")\n",
    "print(f\"\\n{harness_result.testcase}\")\n",
    "print(f\"\\nSimplified test case:\")\n",
    "print(f\"------------------------------------------------------\\n\")\n",
    "print(f\"\\n{reduced_test_case}\")\n"
   ]
  },
  {
   "cell_type": "markdown",
   "id": "current-february",
   "metadata": {},
   "source": [
    "## Step 5 Filtering Identical Test Cases (Section 3.6)\n",
    "\n",
    "We now filter out the reduced test case using our knowledge base. The idea is we do not ask developer intervention if an identical buggy behaviour has seen before (e.g., triggered by a different test case).\n",
    "\n",
    "This test case is likely to trigger an indentical bug seen in our previously experiment runs and hence the number cases to be manually inspected is likely to be 0. \n"
   ]
  },
  {
   "cell_type": "code",
   "execution_count": 18,
   "id": "varying-affect",
   "metadata": {
    "scrolled": true
   },
   "outputs": [
    {
     "name": "stdout",
     "output_type": "stream",
     "text": [
      "Filtering test cases (approx. 30 seconds)...\n",
      "\n",
      "\n",
      "#Suspicious results that need to be manually inspected after filtering is: 0:\n",
      "\n",
      "------------------------------------------------------\n",
      "\n"
     ]
    }
   ],
   "source": [
    "# step-5 filtering test cases\n",
    "\n",
    "from filter.classify import Classifier\n",
    "\n",
    "print(f\"Filtering test cases (approx. 30 seconds)...\\n\")\n",
    "classify = Classifier()  # Test case filter\n",
    "# classify.clear_recorders() #Empting all the test cases\n",
    "\n",
    "suspicious_result = classify.filter(test_result_list, harness_result)\n",
    "print(f\"\\n#Suspicious results that need to be manually inspected after filtering is: {len(suspicious_result)}:\\n\")\n",
    "print(f\"------------------------------------------------------\\n\")\n",
    "for interesting_test_result in suspicious_result:\n",
    "    print(interesting_test_result)"
   ]
  },
  {
   "cell_type": "markdown",
   "id": "exterior-demonstration",
   "metadata": {},
   "source": [
    "## Other Results (Section 5)\n",
    "\n",
    "A list of bugs found by our tool and the relevant bug report can be found at our public GitHub repository [COMFORT Github](https://github.com/NWU-NISL-Fuzzing/COMFORT/blob/main/artifact_evaluation). \n",
    "\n",
    "Here, we plot the digrams of other results using offline generated data (it would take too long to run the experiment live).\n",
    "A full list of raw test cases used to plot the diagrams can be found from our public GitHub repository [COMFORT Github](https://github.com/NWU-NISL-Fuzzing/COMFORT/blob/main/artifact_evaluation). "
   ]
  },
  {
   "cell_type": "markdown",
   "id": "charged-bottom",
   "metadata": {},
   "source": [
    "### Bug Statistics\n",
    "The below program reproduces Figure 6 in Section 5.1 of our paper"
   ]
  },
  {
   "cell_type": "code",
   "execution_count": 8,
   "id": "protecting-cincinnati",
   "metadata": {},
   "outputs": [
    {
     "name": "stdout",
     "output_type": "stream",
     "text": [
      "Figure 6. #COMFORT-found bugs per compiler components:\n",
      "\n",
      "{'CodeGen': [42, 49], 'Implementation': [41, 45], 'Parser': [13, 15], 'RegExp Engine': [8, 9], 'Strict Mode': [8, 8], 'Optimizer': [3, 3]}\n"
     ]
    },
    {
     "data": {
      "image/png": "[encoded data removed]",
      "text/plain": [
       "<Figure size 432x288 with 1 Axes>"
      ]
     },
     "metadata": {
      "needs_background": "light"
     },
     "output_type": "display_data"
    }
   ],
   "source": [
    "# The number of COMFORT-discovered bugs per JS components (Figure 6)\n",
    "\n",
    "import Ipynb_importer\n",
    "from src.data_statistics.statistic import statistic_from_bug_db\n",
    "from src.data_statistics.drawPlots import drawBars\n",
    "\n",
    "db_path = r\"/mnt/aliyun/COMFORT/data/Bug_info.db\"\n",
    "dict = {\"CodeGen\": [], \"Implementation\": [], \"Parser\": [], \"RegExp Engine\": [], \"Strict Mode\": [], \"Optimizer\": []}\n",
    "result = statistic_from_bug_db(db_path, dict)\n",
    "print(f\"Figure 6. #COMFORT-found bugs per compiler components:\\n\")\n",
    "print(result)\n",
    "drawBars(result)"
   ]
  },
  {
   "cell_type": "markdown",
   "id": "ethical-rubber",
   "metadata": {},
   "source": [
    "This below program reproduces Figure 7 in Section 5.3 of our paper"
   ]
  },
  {
   "cell_type": "code",
   "execution_count": 9,
   "id": "accessory-individual",
   "metadata": {
    "scrolled": true
   },
   "outputs": [
    {
     "name": "stdout",
     "output_type": "stream",
     "text": [
      "The number of bugs found by different fuzzers:\n",
      "\n",
      "{'COMFORT_info': {'Submitted': 60, 'Confirmed': 50, 'Fixed': 48}, 'DIE_info': {'Submitted': 30, 'Confirmed': 19, 'Fixed': 9}, 'Fuzzilli_info': {'Submitted': 16, 'Confirmed': 12, 'Fixed': 9}, 'Montage_info': {'Submitted': 15, 'Confirmed': 7, 'Fixed': 5}, 'DeepSmith_info': {'Submitted': 6, 'Confirmed': 6, 'Fixed': 4}, 'CodeAlchemist_info': {'Submitted': 11, 'Confirmed': 8, 'Fixed': 5}}\n"
     ]
    },
    {
     "data": {
      "image/png": "[encoded data removed]",
      "text/plain": [
       "<Figure size 432x288 with 1 Axes>"
      ]
     },
     "metadata": {},
     "output_type": "display_data"
    }
   ],
   "source": [
    "# The number of bugs found by different fuzzers (Figure 7)\n",
    "\n",
    "import Ipynb_importer\n",
    "from src.data_statistics.statisticsOthers import statistic\n",
    "from src.data_statistics.drawPlotsOthers import drawBars\n",
    "\n",
    "db_path = r\"/mnt/aliyun/COMFORT/data/Bug_info.db\"\n",
    "table_name = {\"COMFORT_info\": [], \"DIE_info\":[], \"Fuzzilli_info\":[],\"Montage_info\":[],\"DeepSmith_info\":[], \"CodeAlchemist_info\":[]}\n",
    "result = statistic(db_path,table_name)\n",
    "print(f\"The number of bugs found by different fuzzers:\\n\")\n",
    "print(result)\n",
    "drawBars(result)"
   ]
  },
  {
   "cell_type": "markdown",
   "id": "fluid-monitor",
   "metadata": {},
   "source": [
    "### Quality of the Generated Test Cases\n",
    "\n",
    "The below cell plots Figure 8 in Section 5.3.3 of our paper. \n",
    "\n",
    "*Notes*: The experiment was performed on 9,000 randomly chosen test, syntatically correct programs. As the programs are randomly chosen, the number may be slightly different from the ones presented in the paper. "
   ]
  },
  {
   "cell_type": "code",
   "execution_count": 10,
   "id": "painted-repeat",
   "metadata": {
    "scrolled": false
   },
   "outputs": [
    {
     "data": {
      "image/png": "[encoded data removed]",
      "text/plain": [
       "<Figure size 432x288 with 1 Axes>"
      ]
     },
     "metadata": {},
     "output_type": "display_data"
    }
   ],
   "source": [
    "#This script computes the coverage of the JS programs generated by various methods using our own data\n",
    "\n",
    "import Ipynb_importer\n",
    "from src.compare_experiment.drawPlots import drawBars, extractMetrics\n",
    "\n",
    "coverages = []\n",
    "fuzzers = [\"COMFORT\", \"DIE\", \"Fuzzilli\", \"Montage\", \"DeepSmith\", \"CodeAlchemist\"]\n",
    "for fuzzer in fuzzers:\n",
    "    coverages.append(extractMetrics(fuzzer))\n",
    "drawBars(coverages, fuzzers)"
   ]
  },
  {
   "cell_type": "code",
   "execution_count": null,
   "id": "disciplinary-underground",
   "metadata": {},
   "outputs": [],
   "source": []
  }
 ],
 "metadata": {
  "kernelspec": {
   "display_name": "Python 3",
   "language": "python",
   "name": "python3"
  },
  "language_info": {
   "codemirror_mode": {
    "name": "ipython",
    "version": 3
   },
   "file_extension": ".py",
   "mimetype": "text/x-python",
   "name": "python",
   "nbconvert_exporter": "python",
   "pygments_lexer": "ipython3",
   "version": "3.7.10"
  }
 },
 "nbformat": 4,
 "nbformat_minor": 5
}
